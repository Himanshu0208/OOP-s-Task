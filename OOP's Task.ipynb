{
 "cells": [
  {
   "cell_type": "markdown",
   "id": "bb7b5c0b-074a-431e-8a4d-d2f827c3e271",
   "metadata": {},
   "source": [
    "# Ques 1"
   ]
  },
  {
   "cell_type": "code",
   "execution_count": 7,
   "id": "aa12dbf4-3f9d-4c80-b8d7-25c460e16489",
   "metadata": {},
   "outputs": [],
   "source": [
    "class Vehicle:\n",
    "    def __init__(self , name , speed , average):\n",
    "        self.name_of_vehicle =  name\n",
    "        self.max_speed = speed\n",
    "        self.average_of_vehicle = average"
   ]
  },
  {
   "cell_type": "markdown",
   "id": "60ac514b-62ec-499f-9866-06c092ebb9da",
   "metadata": {},
   "source": [
    "# Ques 2"
   ]
  },
  {
   "cell_type": "code",
   "execution_count": 14,
   "id": "2168047e-1436-4758-a4d8-ba564763e5d9",
   "metadata": {},
   "outputs": [],
   "source": [
    "class Car (Vehicle):       \n",
    "    def seatingCapacity(self , seating):\n",
    "        self.seating_capacity = seating\n",
    "        return self.name_of_vehicle + \" has a seating capacity of \" + str(self.seating_capacity) + \" person\""
   ]
  },
  {
   "cell_type": "code",
   "execution_count": 15,
   "id": "b0aa5f0d-86d9-45fc-99b9-5fca73e34921",
   "metadata": {},
   "outputs": [],
   "source": [
    "car = Car('Sedan' , 150 , 15)"
   ]
  },
  {
   "cell_type": "code",
   "execution_count": 16,
   "id": "725f259e-b47f-4c8a-8a1a-6c733667ff87",
   "metadata": {},
   "outputs": [
    {
     "data": {
      "text/plain": [
       "'Sedan has a seating capacity of 4 person'"
      ]
     },
     "execution_count": 16,
     "metadata": {},
     "output_type": "execute_result"
    }
   ],
   "source": [
    "car.seatingCapacity(4)"
   ]
  },
  {
   "cell_type": "markdown",
   "id": "bb1b8321-3c0c-4e92-ada1-e54ed81c2fb1",
   "metadata": {},
   "source": [
    "# Ques 3\n",
    "Multiple Inheritance is a feature of C++ where a class can inherit from more than one classes.  The constructors of inherited classes are called in the same order in which they are inherited. For example, in the following program, B’s constructor is called before A’s constructor.\n",
    "\n",
    "A class can be derived from more than one base class."
   ]
  },
  {
   "cell_type": "code",
   "execution_count": 30,
   "id": "37f4e7cc-819f-4fb6-926f-4700ab079df5",
   "metadata": {},
   "outputs": [],
   "source": [
    "class Class1:\n",
    "    def fun1(self):\n",
    "        return 'I am a function of Class 1'"
   ]
  },
  {
   "cell_type": "code",
   "execution_count": 31,
   "id": "b3640397-0d44-41ab-ba16-0566a3c6a596",
   "metadata": {},
   "outputs": [],
   "source": [
    "class Class2 (Class1):\n",
    "    def fun2(self):\n",
    "        return 'I am a function of Class 2'"
   ]
  },
  {
   "cell_type": "code",
   "execution_count": 32,
   "id": "ee994644-6ca2-4609-a4a4-3b07b11b0081",
   "metadata": {},
   "outputs": [],
   "source": [
    "obj = Class2()"
   ]
  },
  {
   "cell_type": "code",
   "execution_count": 33,
   "id": "1f26a695-6534-4c18-9488-01348d28fba1",
   "metadata": {},
   "outputs": [
    {
     "data": {
      "text/plain": [
       "<bound method Class1.fun1 of <__main__.Class2 object at 0x7fae88fef490>>"
      ]
     },
     "execution_count": 33,
     "metadata": {},
     "output_type": "execute_result"
    }
   ],
   "source": [
    "obj.fun1"
   ]
  },
  {
   "cell_type": "code",
   "execution_count": 34,
   "id": "6185f147-4ccf-4f02-8896-86a6a0920807",
   "metadata": {},
   "outputs": [
    {
     "data": {
      "text/plain": [
       "'I am a function of Class 1'"
      ]
     },
     "execution_count": 34,
     "metadata": {},
     "output_type": "execute_result"
    }
   ],
   "source": [
    "obj.fun1()"
   ]
  },
  {
   "cell_type": "markdown",
   "id": "f6c4f690-dce9-4358-bb0e-81da1a1e57ca",
   "metadata": {},
   "source": [
    "# Ques 4\n",
    "__Getter__ are functions that are used to get the value of a class variable <br>\n",
    "__Setter__ are functions that are used to modify the value of a class variable"
   ]
  },
  {
   "cell_type": "code",
   "execution_count": 38,
   "id": "aa6c04b9-7e55-4a74-8391-23740527abed",
   "metadata": {},
   "outputs": [],
   "source": [
    "class Class3:\n",
    "    def __init__(self , a , b):\n",
    "        self.__a = a\n",
    "        self.__b = b\n",
    "    \n",
    "    def getA(self):\n",
    "        return self.__a\n",
    "    \n",
    "    def setA(self , a):\n",
    "        self.__a = a"
   ]
  },
  {
   "cell_type": "code",
   "execution_count": 39,
   "id": "4928fd86-5335-45ac-a298-5f121ba5eec4",
   "metadata": {},
   "outputs": [],
   "source": [
    "obj = Class3(10,9)"
   ]
  },
  {
   "cell_type": "code",
   "execution_count": 40,
   "id": "50a12d26-70b6-48a4-ad99-82a5647ccf7b",
   "metadata": {},
   "outputs": [
    {
     "data": {
      "text/plain": [
       "10"
      ]
     },
     "execution_count": 40,
     "metadata": {},
     "output_type": "execute_result"
    }
   ],
   "source": [
    "obj.getA()"
   ]
  },
  {
   "cell_type": "code",
   "execution_count": 41,
   "id": "acdd42eb-04e2-4d1c-9315-5aa339670c94",
   "metadata": {},
   "outputs": [],
   "source": [
    "obj.setA('Himanshu')"
   ]
  },
  {
   "cell_type": "code",
   "execution_count": 42,
   "id": "e664a24e-2f8a-44a5-b000-697c43f0d55a",
   "metadata": {},
   "outputs": [
    {
     "data": {
      "text/plain": [
       "'Himanshu'"
      ]
     },
     "execution_count": 42,
     "metadata": {},
     "output_type": "execute_result"
    }
   ],
   "source": [
    "obj.getA()"
   ]
  },
  {
   "cell_type": "markdown",
   "id": "5dca1f1e-8d2d-4967-bf75-5c9f9439fc42",
   "metadata": {},
   "source": [
    "# Ques 5\n",
    "Method overriding is an ability of any object-oriented programming language that allows a subclass or child class to provide a specific implementation of a method that is already provided by one of its super-classes or parent classes. When a method in a subclass has the same name, same parameters or signature and same return type(or sub-type) as a method in its super-class, then the method in the subclass is said to override the method in the super-class."
   ]
  },
  {
   "cell_type": "code",
   "execution_count": 48,
   "id": "09f6587c-63f7-47c3-8488-078ceb78f973",
   "metadata": {},
   "outputs": [],
   "source": [
    "class Class4:\n",
    "    def fun4(self):\n",
    "        return 'I am in Class4'"
   ]
  },
  {
   "cell_type": "code",
   "execution_count": 49,
   "id": "17251a92-c2c5-4f3c-bf55-b2e9c278bf04",
   "metadata": {},
   "outputs": [],
   "source": [
    "class Class5 (Class4):\n",
    "    def fun4(self):\n",
    "        return 'I was overriden by Class5'"
   ]
  },
  {
   "cell_type": "code",
   "execution_count": 50,
   "id": "a48d1855-34dc-4b08-9f93-60f092df0b3c",
   "metadata": {},
   "outputs": [],
   "source": [
    "obj = Class5()"
   ]
  },
  {
   "cell_type": "code",
   "execution_count": 51,
   "id": "57ad47d1-829d-43ae-a594-3c8b12444904",
   "metadata": {},
   "outputs": [
    {
     "data": {
      "text/plain": [
       "'I was overriden by Class5'"
      ]
     },
     "execution_count": 51,
     "metadata": {},
     "output_type": "execute_result"
    }
   ],
   "source": [
    "obj.fun4()"
   ]
  }
 ],
 "metadata": {
  "kernelspec": {
   "display_name": "Python 3 (ipykernel)",
   "language": "python",
   "name": "python3"
  },
  "language_info": {
   "codemirror_mode": {
    "name": "ipython",
    "version": 3
   },
   "file_extension": ".py",
   "mimetype": "text/x-python",
   "name": "python",
   "nbconvert_exporter": "python",
   "pygments_lexer": "ipython3",
   "version": "3.10.8"
  }
 },
 "nbformat": 4,
 "nbformat_minor": 5
}
